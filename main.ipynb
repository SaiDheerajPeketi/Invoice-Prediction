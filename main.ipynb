{
 "cells": [
  {
   "cell_type": "code",
   "execution_count": 54,
   "id": "initial_id",
   "metadata": {
    "collapsed": true,
    "ExecuteTime": {
     "end_time": "2024-03-27T01:54:22.523448Z",
     "start_time": "2024-03-27T01:54:22.506503Z"
    }
   },
   "outputs": [],
   "source": [
    "import pandas as pd\n",
    "import numpy as np\n",
    "from datetime import datetime, timedelta"
   ]
  },
  {
   "cell_type": "code",
   "outputs": [
    {
     "name": "stdout",
     "output_type": "stream",
     "text": [
      "    Invoice Date  Vendor ID  Invoice Amount\n",
      "0     2022-06-15      65670         1732.67\n",
      "1     2022-08-14      65670         2045.03\n",
      "2     2022-10-13      65670         1398.03\n",
      "3     2022-12-12      65670         1316.33\n",
      "4     2023-02-10      65670         1755.29\n",
      "..           ...        ...             ...\n",
      "858   2023-11-12      65769         1308.83\n",
      "859   2023-12-12      65769         1469.97\n",
      "860   2024-01-11      65769         1956.70\n",
      "861   2024-02-10      65769         2221.93\n",
      "862   2024-03-11      65769         1410.39\n",
      "\n",
      "[863 rows x 3 columns]\n"
     ]
    }
   ],
   "source": [
    "excel_file = 'Invoice.xlsx'\n",
    "sheet_name = '1'\n",
    "columns = ['Invoice Date', 'Vendor ID', 'Invoice Amount']\n",
    "\n",
    "df = pd.read_excel(excel_file, sheet_name=sheet_name, usecols=columns)\n",
    "\n",
    "df = df.dropna()\n",
    "\n",
    "print(df)"
   ],
   "metadata": {
    "collapsed": false,
    "ExecuteTime": {
     "end_time": "2024-03-27T01:54:23.102509Z",
     "start_time": "2024-03-27T01:54:22.524449Z"
    }
   },
   "id": "e66e77db6771d7c3",
   "execution_count": 55
  },
  {
   "cell_type": "code",
   "outputs": [],
   "source": [
    "# Preprocess dates\n",
    "\n",
    "def date_to_num(date_obj):\n",
    "    base_date = np.datetime64('2000-01-01')\n",
    "    delta_days = (date_obj - base_date).days\n",
    "    return delta_days + 1\n",
    "\n",
    "def date_from_num(days_count):\n",
    "    base_date = np.datetime64('2000-01-01')\n",
    "    target_date = base_date + np.timedelta64(days_count - 1, 'D')\n",
    "    formatted_date = target_date.astype(object).strftime('%d-%b-%Y')\n",
    "    return formatted_date"
   ],
   "metadata": {
    "collapsed": false,
    "ExecuteTime": {
     "end_time": "2024-03-27T01:54:23.118459Z",
     "start_time": "2024-03-27T01:54:23.103506Z"
    }
   },
   "id": "588df4299022008a",
   "execution_count": 56
  },
  {
   "cell_type": "code",
   "outputs": [
    {
     "name": "stdout",
     "output_type": "stream",
     "text": [
      "     Invoice Date  Vendor ID  Invoice Amount\n",
      "0            8202      65670         1732.67\n",
      "1            8262      65670         2045.03\n",
      "2            8322      65670         1398.03\n",
      "3            8382      65670         1316.33\n",
      "4            8442      65670         1755.29\n",
      "..            ...        ...             ...\n",
      "858          8717      65769         1308.83\n",
      "859          8747      65769         1469.97\n",
      "860          8777      65769         1956.70\n",
      "861          8807      65769         2221.93\n",
      "862          8837      65769         1410.39\n",
      "\n",
      "[863 rows x 3 columns]\n"
     ]
    }
   ],
   "source": [
    "df['Invoice Date'] = df['Invoice Date'].apply(date_to_num)\n",
    "\n",
    "print(df)"
   ],
   "metadata": {
    "collapsed": false,
    "ExecuteTime": {
     "end_time": "2024-03-27T01:54:23.133410Z",
     "start_time": "2024-03-27T01:54:23.120449Z"
    }
   },
   "id": "cf1aae6e60c5a54a",
   "execution_count": 57
  },
  {
   "cell_type": "code",
   "outputs": [
    {
     "name": "stdout",
     "output_type": "stream",
     "text": [
      "   Invoice Date  Vendor ID  Invoice Amount\n",
      "0          8202      65670         1732.67\n",
      "1          8262      65670         2045.03\n",
      "2          8322      65670         1398.03\n",
      "3          8382      65670         1316.33\n",
      "4          8442      65670         1755.29\n"
     ]
    }
   ],
   "source": [
    "print(df.head())"
   ],
   "metadata": {
    "collapsed": false,
    "ExecuteTime": {
     "end_time": "2024-03-27T01:54:33.181600Z",
     "start_time": "2024-03-27T01:54:33.169640Z"
    }
   },
   "id": "6359112374e9c265",
   "execution_count": 58
  },
  {
   "cell_type": "code",
   "outputs": [],
   "source": [
    "# Find Potential Vendor ID's\n",
    "\n",
    "# Define the start and end dates for April 2024\n",
    "start_date = np.datetime64('2024-04-01')\n",
    "end_date = np.datetime64('2024-04-30')\n",
    "\n",
    "potential_vendors = set()\n",
    "\n",
    "# Iterate through each day in April 2024\n",
    "current_date = start_date\n",
    "while current_date <= end_date:\n",
    "    day_count = (current_date - np.datetime64('2000-01-01')).astype(int) + 1\n",
    "    \n",
    "    # Filter the dataframe for each date offset\n",
    "    filtered_df1 = df[df['Invoice Date'] == day_count-15]\n",
    "    filtered_df2 = df[df['Invoice Date'] == day_count-30]\n",
    "    filtered_df3 = df[df['Invoice Date'] == day_count-45]\n",
    "    filtered_df4 = df[df['Invoice Date'] == day_count-60]\n",
    "    \n",
    "    # Add unique Vendor IDs to potential_vendors set\n",
    "    # Iterate through filtered DataFrames and add tuples to the set\n",
    "    for filtered_df in [filtered_df1, filtered_df2, filtered_df3, filtered_df4]:\n",
    "        for index, row in filtered_df.iterrows():\n",
    "            vendor_date_tuple = (day_count, row['Vendor ID'])\n",
    "            potential_vendors.add(vendor_date_tuple)\n",
    "    # potential_vendors.update(set(filtered_df1['Vendor ID']))\n",
    "    # potential_vendors.update(set(filtered_df2['Vendor ID']))\n",
    "    # potential_vendors.update(set(filtered_df3['Vendor ID']))\n",
    "    # potential_vendors.update(set(filtered_df4['Vendor ID']))\n",
    "    \n",
    "    current_date += np.timedelta64(1, 'D')"
   ],
   "metadata": {
    "collapsed": false,
    "ExecuteTime": {
     "end_time": "2024-03-27T05:15:13.507768Z",
     "start_time": "2024-03-27T05:15:13.457931Z"
    }
   },
   "id": "4869e658ba351cff",
   "execution_count": 153
  },
  {
   "cell_type": "code",
   "outputs": [
    {
     "name": "stdout",
     "output_type": "stream",
     "text": [
      "{(8866, 65723.0), (8879, 65720.0), (8885, 65736.0), (8865, 65712.0), (8882, 65728.0), (8869, 65703.0), (8869, 65767.0), (8867, 65684.0), (8884, 65764.0), (8867, 65693.0), (8865, 65760.0), (8868, 65722.0), (8883, 65695.0), (8880, 65760.0), (8881, 65768.0), (8881, 65731.0), (8882, 65769.0), (8882, 65714.0), (8883, 65752.0), (8861, 65694.0), (8878, 65710.0), (8864, 65720.0), (8860, 65747.0), (8870, 65733.0), (8875, 65747.0), (8867, 65679.0), (8885, 65733.0), (8879, 65735.0), (8869, 65764.0), (8865, 65675.0), (8870, 65726.0), (8867, 65681.0), (8866, 65768.0), (8884, 65761.0), (8880, 65675.0), (8885, 65726.0), (8866, 65731.0), (8863, 65677.0), (8882, 65684.0), (8883, 65722.0), (8885, 65737.0), (8881, 65685.0), (8865, 65716.0), (8864, 65735.0), (8868, 65696.0), (8869, 65743.0), (8869, 65761.0), (8865, 65718.0), (8882, 65679.0), (8865, 65727.0), (8867, 65724.0), (8880, 65718.0), (8880, 65727.0), (8881, 65744.0), (8881, 65689.0), (8866, 65685.0), (8882, 65681.0), (8865, 65674.0), (8867, 65671.0), (8868, 65691.0), (8880, 65674.0), (8870, 65673.0), (8870, 65737.0), (8880, 65683.0), (8884, 65699.0), (8885, 65673.0), (8867, 65765.0), (8867, 65728.0), (8865, 65740.0), (8880, 65740.0), (8864, 65707.0), (8870, 65766.0), (8883, 65696.0), (8866, 65744.0), (8866, 65689.0), (8885, 65766.0), (8868, 65695.0), (8881, 65723.0), (8884, 65703.0), (8870, 65750.0), (8884, 65767.0), (8867, 65705.0), (8882, 65724.0), (8867, 65769.0), (8867, 65714.0), (8869, 65699.0), (8885, 65750.0), (8868, 65752.0), (8863, 65710.0), (8865, 65683.0), (8862, 65739.0), (8883, 65691.0), (8882, 65671.0), (8877, 65739.0), (8870, 65736.0)}\n",
      "    Vendor ID  Invoice Date\n",
      "0     65671.0          8867\n",
      "1     65673.0          8870\n",
      "2     65674.0          8865\n",
      "3     65675.0          8865\n",
      "4     65677.0          8863\n",
      "5     65679.0          8867\n",
      "6     65681.0          8867\n",
      "7     65683.0          8865\n",
      "8     65684.0          8867\n",
      "9     65685.0          8866\n",
      "10    65689.0          8866\n",
      "11    65691.0          8868\n",
      "12    65693.0          8867\n",
      "13    65694.0          8861\n",
      "14    65695.0          8868\n",
      "15    65696.0          8868\n",
      "16    65699.0          8869\n",
      "17    65703.0          8869\n",
      "18    65705.0          8867\n",
      "19    65707.0          8864\n",
      "20    65710.0          8863\n",
      "21    65712.0          8865\n",
      "22    65714.0          8867\n",
      "23    65716.0          8865\n",
      "24    65718.0          8865\n",
      "25    65720.0          8864\n",
      "26    65722.0          8868\n",
      "27    65723.0          8866\n",
      "28    65724.0          8867\n",
      "29    65726.0          8870\n",
      "30    65727.0          8865\n",
      "31    65728.0          8867\n",
      "32    65731.0          8866\n",
      "33    65733.0          8870\n",
      "34    65735.0          8864\n",
      "35    65736.0          8870\n",
      "36    65737.0          8870\n",
      "37    65739.0          8862\n",
      "38    65740.0          8865\n",
      "39    65743.0          8869\n",
      "40    65744.0          8866\n",
      "41    65747.0          8860\n",
      "42    65750.0          8870\n",
      "43    65752.0          8868\n",
      "44    65760.0          8865\n",
      "45    65761.0          8869\n",
      "46    65764.0          8869\n",
      "47    65765.0          8867\n",
      "48    65766.0          8870\n",
      "49    65767.0          8869\n",
      "50    65768.0          8866\n",
      "51    65769.0          8867\n"
     ]
    }
   ],
   "source": [
    "print(potential_vendors)\n",
    "\n",
    "vendors_df = pd.DataFrame(list(potential_vendors), columns=columns[:-1])\n",
    "\n",
    "final_vendors_df = vendors_df.groupby('Vendor ID')['Invoice Date'].min().reset_index()\n",
    "\n",
    "print(final_vendors_df)"
   ],
   "metadata": {
    "collapsed": false,
    "ExecuteTime": {
     "end_time": "2024-03-27T05:15:14.165194Z",
     "start_time": "2024-03-27T05:15:14.145256Z"
    }
   },
   "id": "64462b95b68d5b60",
   "execution_count": 154
  },
  {
   "cell_type": "code",
   "outputs": [],
   "source": [
    "from sklearn.pipeline import Pipeline\n",
    "from sklearn.preprocessing import StandardScaler\n",
    "\n",
    "pipeline = Pipeline([\n",
    " ('std_scaler', StandardScaler()),\n",
    " ])\n",
    "\n",
    "df_scaled = pipeline.fit_transform(df)\n",
    "df_scaled = pd.DataFrame(df_scaled, columns=columns)"
   ],
   "metadata": {
    "collapsed": false,
    "ExecuteTime": {
     "end_time": "2024-03-27T02:26:44.178608Z",
     "start_time": "2024-03-27T02:26:44.164650Z"
    }
   },
   "id": "14d66b2b9b827bb6",
   "execution_count": 77
  },
  {
   "cell_type": "code",
   "outputs": [
    {
     "name": "stdout",
     "output_type": "stream",
     "text": [
      "X_train shape: (690, 2)\n",
      "X_test shape: (173, 2)\n",
      "y_train shape: (690,)\n",
      "y_test shape: (173,)\n"
     ]
    }
   ],
   "source": [
    "from sklearn.model_selection import train_test_split\n",
    "\n",
    "# Separate features and target variable\n",
    "X = df_scaled[columns[:-1]]\n",
    "y = df_scaled[columns[-1]]\n",
    "\n",
    "# Perform train-test split with a 80-20 ratio\n",
    "X_train, X_test, y_train, y_test = train_test_split(X, y, test_size=0.2, random_state=42)\n",
    "\n",
    "# Print the shapes of the train and test sets\n",
    "print(\"X_train shape:\", X_train.shape)\n",
    "print(\"X_test shape:\", X_test.shape)\n",
    "print(\"y_train shape:\", y_train.shape)\n",
    "print(\"y_test shape:\", y_test.shape)"
   ],
   "metadata": {
    "collapsed": false,
    "ExecuteTime": {
     "end_time": "2024-03-27T02:32:38.321953Z",
     "start_time": "2024-03-27T02:32:38.307007Z"
    }
   },
   "id": "4db5db293cb1b925",
   "execution_count": 82
  },
  {
   "cell_type": "code",
   "outputs": [
    {
     "data": {
      "text/plain": "RandomForestRegressor(max_leaf_nodes=16, n_jobs=-1, random_state=42)",
      "text/html": "<style>#sk-container-id-6 {color: black;}#sk-container-id-6 pre{padding: 0;}#sk-container-id-6 div.sk-toggleable {background-color: white;}#sk-container-id-6 label.sk-toggleable__label {cursor: pointer;display: block;width: 100%;margin-bottom: 0;padding: 0.3em;box-sizing: border-box;text-align: center;}#sk-container-id-6 label.sk-toggleable__label-arrow:before {content: \"▸\";float: left;margin-right: 0.25em;color: #696969;}#sk-container-id-6 label.sk-toggleable__label-arrow:hover:before {color: black;}#sk-container-id-6 div.sk-estimator:hover label.sk-toggleable__label-arrow:before {color: black;}#sk-container-id-6 div.sk-toggleable__content {max-height: 0;max-width: 0;overflow: hidden;text-align: left;background-color: #f0f8ff;}#sk-container-id-6 div.sk-toggleable__content pre {margin: 0.2em;color: black;border-radius: 0.25em;background-color: #f0f8ff;}#sk-container-id-6 input.sk-toggleable__control:checked~div.sk-toggleable__content {max-height: 200px;max-width: 100%;overflow: auto;}#sk-container-id-6 input.sk-toggleable__control:checked~label.sk-toggleable__label-arrow:before {content: \"▾\";}#sk-container-id-6 div.sk-estimator input.sk-toggleable__control:checked~label.sk-toggleable__label {background-color: #d4ebff;}#sk-container-id-6 div.sk-label input.sk-toggleable__control:checked~label.sk-toggleable__label {background-color: #d4ebff;}#sk-container-id-6 input.sk-hidden--visually {border: 0;clip: rect(1px 1px 1px 1px);clip: rect(1px, 1px, 1px, 1px);height: 1px;margin: -1px;overflow: hidden;padding: 0;position: absolute;width: 1px;}#sk-container-id-6 div.sk-estimator {font-family: monospace;background-color: #f0f8ff;border: 1px dotted black;border-radius: 0.25em;box-sizing: border-box;margin-bottom: 0.5em;}#sk-container-id-6 div.sk-estimator:hover {background-color: #d4ebff;}#sk-container-id-6 div.sk-parallel-item::after {content: \"\";width: 100%;border-bottom: 1px solid gray;flex-grow: 1;}#sk-container-id-6 div.sk-label:hover label.sk-toggleable__label {background-color: #d4ebff;}#sk-container-id-6 div.sk-serial::before {content: \"\";position: absolute;border-left: 1px solid gray;box-sizing: border-box;top: 0;bottom: 0;left: 50%;z-index: 0;}#sk-container-id-6 div.sk-serial {display: flex;flex-direction: column;align-items: center;background-color: white;padding-right: 0.2em;padding-left: 0.2em;position: relative;}#sk-container-id-6 div.sk-item {position: relative;z-index: 1;}#sk-container-id-6 div.sk-parallel {display: flex;align-items: stretch;justify-content: center;background-color: white;position: relative;}#sk-container-id-6 div.sk-item::before, #sk-container-id-6 div.sk-parallel-item::before {content: \"\";position: absolute;border-left: 1px solid gray;box-sizing: border-box;top: 0;bottom: 0;left: 50%;z-index: -1;}#sk-container-id-6 div.sk-parallel-item {display: flex;flex-direction: column;z-index: 1;position: relative;background-color: white;}#sk-container-id-6 div.sk-parallel-item:first-child::after {align-self: flex-end;width: 50%;}#sk-container-id-6 div.sk-parallel-item:last-child::after {align-self: flex-start;width: 50%;}#sk-container-id-6 div.sk-parallel-item:only-child::after {width: 0;}#sk-container-id-6 div.sk-dashed-wrapped {border: 1px dashed gray;margin: 0 0.4em 0.5em 0.4em;box-sizing: border-box;padding-bottom: 0.4em;background-color: white;}#sk-container-id-6 div.sk-label label {font-family: monospace;font-weight: bold;display: inline-block;line-height: 1.2em;}#sk-container-id-6 div.sk-label-container {text-align: center;}#sk-container-id-6 div.sk-container {/* jupyter's `normalize.less` sets `[hidden] { display: none; }` but bootstrap.min.css set `[hidden] { display: none !important; }` so we also need the `!important` here to be able to override the default hidden behavior on the sphinx rendered scikit-learn.org. See: https://github.com/scikit-learn/scikit-learn/issues/21755 */display: inline-block !important;position: relative;}#sk-container-id-6 div.sk-text-repr-fallback {display: none;}</style><div id=\"sk-container-id-6\" class=\"sk-top-container\"><div class=\"sk-text-repr-fallback\"><pre>RandomForestRegressor(max_leaf_nodes=16, n_jobs=-1, random_state=42)</pre><b>In a Jupyter environment, please rerun this cell to show the HTML representation or trust the notebook. <br />On GitHub, the HTML representation is unable to render, please try loading this page with nbviewer.org.</b></div><div class=\"sk-container\" hidden><div class=\"sk-item\"><div class=\"sk-estimator sk-toggleable\"><input class=\"sk-toggleable__control sk-hidden--visually\" id=\"sk-estimator-id-6\" type=\"checkbox\" checked><label for=\"sk-estimator-id-6\" class=\"sk-toggleable__label sk-toggleable__label-arrow\">RandomForestRegressor</label><div class=\"sk-toggleable__content\"><pre>RandomForestRegressor(max_leaf_nodes=16, n_jobs=-1, random_state=42)</pre></div></div></div></div></div>"
     },
     "execution_count": 136,
     "metadata": {},
     "output_type": "execute_result"
    }
   ],
   "source": [
    "from sklearn.tree import DecisionTreeRegressor\n",
    "from sklearn.ensemble import RandomForestRegressor\n",
    "\n",
    "# tree_reg = DecisionTreeRegressor()\n",
    "# tree_reg.fit(X_train, y_train)\n",
    "\n",
    "regressor = RandomForestRegressor(\n",
    "    n_estimators=100,\n",
    "    max_leaf_nodes=16,\n",
    "    n_jobs=-1,\n",
    "    random_state=42\n",
    ")\n",
    "regressor.fit(X_train, y_train)"
   ],
   "metadata": {
    "collapsed": false,
    "ExecuteTime": {
     "end_time": "2024-03-27T04:30:58.758861Z",
     "start_time": "2024-03-27T04:30:58.631287Z"
    }
   },
   "id": "19264e64ec2f0157",
   "execution_count": 136
  },
  {
   "cell_type": "code",
   "outputs": [
    {
     "name": "stdout",
     "output_type": "stream",
     "text": [
      "     Invoice Date  Vendor ID  Invoice Amount\n",
      "715      0.188044   1.167199        1.627016\n",
      "605     -0.994922   0.746764        1.622596\n",
      "120      0.340210  -1.215267        0.463345\n",
      "208      0.276399  -0.864905        0.390861\n",
      "380      0.934148  -0.199216       -1.324560\n",
      "..            ...        ...             ...\n",
      "235      1.277748  -0.759796       -0.195896\n",
      "333     -0.111379  -0.409433        0.155350\n",
      "215      1.307199  -0.864905       -1.708048\n",
      "796      1.164851   1.447489        1.230891\n",
      "7        0.467833  -1.740811        1.123752\n",
      "\n",
      "[173 rows x 3 columns]\n",
      "     Invoice Date  Vendor ID  Invoice Amount\n",
      "715      0.188044   1.167199       -0.095739\n",
      "605     -0.994922   0.746764        0.043394\n",
      "120      0.340210  -1.215267       -0.049990\n",
      "208      0.276399  -0.864905       -0.245595\n",
      "380      0.934148  -0.199216        0.058116\n",
      "..            ...        ...             ...\n",
      "235      1.277748  -0.759796       -0.037284\n",
      "333     -0.111379  -0.409433       -0.077271\n",
      "215      1.307199  -0.864905       -0.035580\n",
      "796      1.164851   1.447489       -0.078839\n",
      "7        0.467833  -1.740811       -0.032524\n",
      "\n",
      "[173 rows x 3 columns]\n"
     ]
    }
   ],
   "source": [
    "from sklearn.metrics import mean_squared_error\n",
    "\n",
    "# y_pred = pd.DataFrame(tree_reg.predict(X_test))\n",
    "y_pred = pd.DataFrame(regressor.predict(X_test))\n",
    "y_pred = y_pred.rename(columns={'0':columns[-1]})\n",
    "\n",
    "X_test_reset = X_test.reset_index(drop=True)\n",
    "\n",
    "combined_org = pd.concat([X_test, y_test], axis=1)\n",
    "combined_res = pd.concat([X_test_reset, y_pred], axis=1,ignore_index=True)\n",
    "combined_res = combined_res.set_index(combined_org.index)\n",
    "combined_res.columns = combined_org.columns\n",
    "\n",
    "print(combined_org)\n",
    "print(combined_res)"
   ],
   "metadata": {
    "collapsed": false,
    "ExecuteTime": {
     "end_time": "2024-03-27T04:31:42.808275Z",
     "start_time": "2024-03-27T04:31:42.770398Z"
    }
   },
   "id": "ffc296843395ec64",
   "execution_count": 139
  },
  {
   "cell_type": "code",
   "outputs": [
    {
     "name": "stdout",
     "output_type": "stream",
     "text": [
      "     Invoice Date  Vendor ID  Invoice Amount\n",
      "0          8565.0    65753.0         2469.78\n",
      "1          8324.0    65741.0         2468.15\n",
      "2          8596.0    65685.0         2040.65\n",
      "3          8583.0    65695.0         2013.92\n",
      "4          8717.0    65714.0         1381.32\n",
      "..            ...        ...             ...\n",
      "168        8787.0    65698.0         1797.54\n",
      "169        8504.0    65708.0         1927.07\n",
      "170        8793.0    65695.0         1239.90\n",
      "171        8764.0    65761.0         2323.70\n",
      "172        8622.0    65670.0         2284.19\n",
      "\n",
      "[173 rows x 3 columns]\n",
      "     Invoice Date  Vendor ID  Invoice Amount\n",
      "0          8565.0    65753.0     1834.475198\n",
      "1          8324.0    65741.0     1885.783666\n",
      "2          8596.0    65685.0     1851.346226\n",
      "3          8583.0    65695.0     1779.212622\n",
      "4          8717.0    65714.0     1891.212817\n",
      "..            ...        ...             ...\n",
      "168        8787.0    65698.0     1856.031855\n",
      "169        8504.0    65708.0     1841.285598\n",
      "170        8793.0    65695.0     1856.660272\n",
      "171        8764.0    65761.0     1840.707564\n",
      "172        8622.0    65670.0     1857.787253\n",
      "\n",
      "[173 rows x 3 columns]\n"
     ]
    },
    {
     "data": {
      "text/plain": "375.57490009105675"
     },
     "execution_count": 140,
     "metadata": {},
     "output_type": "execute_result"
    }
   ],
   "source": [
    "unscaled_pred = pipeline.inverse_transform(combined_res)\n",
    "unscaled_org = pipeline.inverse_transform(combined_org)\n",
    "\n",
    "unscaled_pred = pd.DataFrame(unscaled_pred, columns=columns)\n",
    "unscaled_org = pd.DataFrame(unscaled_org ,columns=columns)\n",
    "\n",
    "print(unscaled_org)\n",
    "print(unscaled_pred)\n",
    "\n",
    "tree_mse = mean_squared_error(unscaled_org['Invoice Amount'], unscaled_pred['Invoice Amount'])\n",
    "tree_rmse = np.sqrt(tree_mse)\n",
    "tree_rmse"
   ],
   "metadata": {
    "collapsed": false,
    "ExecuteTime": {
     "end_time": "2024-03-27T04:31:43.774170Z",
     "start_time": "2024-03-27T04:31:43.754245Z"
    }
   },
   "id": "85b13c8e9f68d7e7",
   "execution_count": 140
  },
  {
   "cell_type": "code",
   "outputs": [
    {
     "name": "stdout",
     "output_type": "stream",
     "text": [
      "    Vendor ID  Invoice Date\n",
      "0     65671.0          8867\n",
      "1     65673.0          8870\n",
      "2     65674.0          8865\n",
      "3     65675.0          8865\n",
      "4     65677.0          8863\n",
      "5     65679.0          8867\n",
      "6     65681.0          8867\n",
      "7     65683.0          8865\n",
      "8     65684.0          8867\n",
      "9     65685.0          8866\n",
      "10    65689.0          8866\n",
      "11    65691.0          8868\n",
      "12    65693.0          8867\n",
      "13    65694.0          8861\n",
      "14    65695.0          8868\n",
      "15    65696.0          8868\n",
      "16    65699.0          8869\n",
      "17    65703.0          8869\n",
      "18    65705.0          8867\n",
      "19    65707.0          8864\n",
      "20    65710.0          8863\n",
      "21    65712.0          8865\n",
      "22    65714.0          8867\n",
      "23    65716.0          8865\n",
      "24    65718.0          8865\n",
      "25    65720.0          8864\n",
      "26    65722.0          8868\n",
      "27    65723.0          8866\n",
      "28    65724.0          8867\n",
      "29    65726.0          8870\n",
      "30    65727.0          8865\n",
      "31    65728.0          8867\n",
      "32    65731.0          8866\n",
      "33    65733.0          8870\n",
      "34    65735.0          8864\n",
      "35    65736.0          8870\n",
      "36    65737.0          8870\n",
      "37    65739.0          8862\n",
      "38    65740.0          8865\n",
      "39    65743.0          8869\n",
      "40    65744.0          8866\n",
      "41    65747.0          8860\n",
      "42    65750.0          8870\n",
      "43    65752.0          8868\n",
      "44    65760.0          8865\n",
      "45    65761.0          8869\n",
      "46    65764.0          8869\n",
      "47    65765.0          8867\n",
      "48    65766.0          8870\n",
      "49    65767.0          8869\n",
      "50    65768.0          8866\n",
      "51    65769.0          8867\n"
     ]
    }
   ],
   "source": [
    "print(final_vendors_df)"
   ],
   "metadata": {
    "collapsed": false,
    "ExecuteTime": {
     "end_time": "2024-03-27T05:15:20.781697Z",
     "start_time": "2024-03-27T05:15:20.759771Z"
    }
   },
   "id": "7056b469414f42ac",
   "execution_count": 155
  },
  {
   "cell_type": "code",
   "outputs": [
    {
     "name": "stdout",
     "output_type": "stream",
     "text": [
      "52\n",
      "   Invoice Date  Vendor ID  Invoice Amount\n",
      "41  03-Apr-2024      65747         1873.48\n",
      "13  04-Apr-2024      65694         1873.67\n",
      "37  05-Apr-2024      65739         1926.10\n",
      "4   06-Apr-2024      65677         1876.72\n",
      "20  06-Apr-2024      65710         1925.82\n",
      "19  07-Apr-2024      65707         1927.88\n",
      "25  07-Apr-2024      65720         1934.38\n",
      "34  07-Apr-2024      65735         1890.32\n",
      "2   08-Apr-2024      65674         1756.24\n",
      "3   08-Apr-2024      65675         1792.87\n",
      "7   08-Apr-2024      65683         1810.96\n",
      "21  08-Apr-2024      65712         1909.97\n",
      "23  08-Apr-2024      65716         1908.21\n",
      "24  08-Apr-2024      65718         1912.22\n",
      "30  08-Apr-2024      65727         1917.64\n",
      "38  08-Apr-2024      65740         1904.45\n",
      "44  08-Apr-2024      65760         1818.85\n",
      "9   09-Apr-2024      65685         1832.04\n",
      "10  09-Apr-2024      65689         1840.41\n",
      "27  09-Apr-2024      65723         1883.44\n",
      "32  09-Apr-2024      65731         1886.21\n",
      "40  09-Apr-2024      65744         1936.71\n",
      "50  09-Apr-2024      65768         1683.63\n",
      "0   10-Apr-2024      65671         1787.20\n",
      "5   10-Apr-2024      65679         1828.65\n",
      "6   10-Apr-2024      65681         1830.09\n",
      "8   10-Apr-2024      65684         1827.91\n",
      "12  10-Apr-2024      65693         1852.46\n",
      "18  10-Apr-2024      65705         1847.36\n",
      "22  10-Apr-2024      65714         1838.90\n",
      "28  10-Apr-2024      65724         1848.25\n",
      "31  10-Apr-2024      65728         1839.32\n",
      "47  10-Apr-2024      65765         1810.19\n",
      "51  10-Apr-2024      65769         1897.61\n",
      "11  11-Apr-2024      65691         1862.47\n",
      "14  11-Apr-2024      65695         1843.47\n",
      "15  11-Apr-2024      65696         1862.46\n",
      "26  11-Apr-2024      65722         1855.27\n",
      "43  11-Apr-2024      65752         1742.73\n",
      "16  12-Apr-2024      65699         1843.78\n",
      "17  12-Apr-2024      65703         1847.54\n",
      "39  12-Apr-2024      65743         1883.70\n",
      "45  12-Apr-2024      65761         1825.98\n",
      "46  12-Apr-2024      65764         1677.46\n",
      "49  12-Apr-2024      65767         1668.43\n",
      "1   13-Apr-2024      65673         1899.26\n",
      "29  13-Apr-2024      65726         1967.34\n",
      "33  13-Apr-2024      65733         1934.67\n",
      "35  13-Apr-2024      65736         1926.78\n",
      "36  13-Apr-2024      65737         1926.78\n",
      "42  13-Apr-2024      65750         1972.18\n",
      "48  13-Apr-2024      65766         1737.90\n"
     ]
    }
   ],
   "source": [
    "# Final Prediction for Apr 2024\n",
    "\n",
    "final_vendors_df_reorder = final_vendors_df[columns[:-1]]\n",
    "\n",
    "input_pipeline = Pipeline([\n",
    "    ('standardize', StandardScaler())\n",
    "])\n",
    "\n",
    "final_vendors_df_reorder_scaled = input_pipeline.fit_transform(final_vendors_df_reorder)\n",
    "final_vendors_df_transformed = pd.DataFrame(final_vendors_df_reorder_scaled, columns=columns[:-1])\n",
    "\n",
    "y_final = pd.DataFrame(regressor.predict(final_vendors_df_transformed))\n",
    "final_unscaled_output = pd.concat([final_vendors_df_transformed, y_final], axis=1)\n",
    "\n",
    "final_unscaled_output.columns = columns\n",
    "\n",
    "#print(final_unscaled_output)\n",
    "\n",
    "final_output_date_num = pd.DataFrame(pipeline.inverse_transform(final_unscaled_output) ,columns=columns)\n",
    "\n",
    "#print(final_output_date_num)\n",
    "\n",
    "final_output_date_num['Invoice Date'] = final_vendors_df_reorder['Invoice Date']\n",
    "final_output_date_num['Vendor ID'] = final_vendors_df_reorder['Vendor ID']\n",
    "\n",
    "#print(final_output_date_num)\n",
    "\n",
    "final_output_date_num['Invoice Date'] = final_output_date_num['Invoice Date'].apply(date_from_num)\n",
    "final_output = final_output_date_num\n",
    "final_output['Invoice Amount'] = final_output['Invoice Amount'].round(2)\n",
    "final_output['Vendor ID'] = final_output['Vendor ID'].astype(int)\n",
    "\n",
    "final_check = set(final_output['Vendor ID'])\n",
    "print(len(final_check))\n",
    "\n",
    "final_output = final_output.sort_values(by=['Invoice Date', 'Vendor ID'], ascending=[True, True])\n",
    "\n",
    "print(final_output)"
   ],
   "metadata": {
    "collapsed": false,
    "ExecuteTime": {
     "end_time": "2024-03-27T05:38:27.556041Z",
     "start_time": "2024-03-27T05:38:27.514187Z"
    }
   },
   "id": "9178f2568dfa11a3",
   "execution_count": 174
  },
  {
   "cell_type": "code",
   "outputs": [],
   "source": [],
   "metadata": {
    "collapsed": false
   },
   "id": "cefd38fe1c561937"
  }
 ],
 "metadata": {
  "kernelspec": {
   "display_name": "Python 3",
   "language": "python",
   "name": "python3"
  },
  "language_info": {
   "codemirror_mode": {
    "name": "ipython",
    "version": 2
   },
   "file_extension": ".py",
   "mimetype": "text/x-python",
   "name": "python",
   "nbconvert_exporter": "python",
   "pygments_lexer": "ipython2",
   "version": "2.7.6"
  }
 },
 "nbformat": 4,
 "nbformat_minor": 5
}
