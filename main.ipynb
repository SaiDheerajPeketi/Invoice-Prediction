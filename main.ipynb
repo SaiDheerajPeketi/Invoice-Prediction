{
 "cells": [
  {
   "cell_type": "code",
   "execution_count": 54,
   "id": "initial_id",
   "metadata": {
    "collapsed": true,
    "ExecuteTime": {
     "end_time": "2024-03-27T01:54:22.523448Z",
     "start_time": "2024-03-27T01:54:22.506503Z"
    }
   },
   "outputs": [],
   "source": [
    "import pandas as pd\n",
    "import numpy as np\n",
    "from datetime import datetime, timedelta"
   ]
  },
  {
   "cell_type": "code",
   "outputs": [
    {
     "name": "stdout",
     "output_type": "stream",
     "text": [
      "    Invoice Date  Vendor ID  Invoice Amount\n",
      "0     2022-06-15      65670         1732.67\n",
      "1     2022-08-14      65670         2045.03\n",
      "2     2022-10-13      65670         1398.03\n",
      "3     2022-12-12      65670         1316.33\n",
      "4     2023-02-10      65670         1755.29\n",
      "..           ...        ...             ...\n",
      "858   2023-11-12      65769         1308.83\n",
      "859   2023-12-12      65769         1469.97\n",
      "860   2024-01-11      65769         1956.70\n",
      "861   2024-02-10      65769         2221.93\n",
      "862   2024-03-11      65769         1410.39\n",
      "\n",
      "[863 rows x 3 columns]\n"
     ]
    }
   ],
   "source": [
    "excel_file = 'Invoice.xlsx'\n",
    "sheet_name = '1'\n",
    "columns = ['Invoice Date', 'Vendor ID', 'Invoice Amount']\n",
    "\n",
    "df = pd.read_excel(excel_file, sheet_name=sheet_name, usecols=columns)\n",
    "\n",
    "df = df.dropna()\n",
    "\n",
    "print(df)"
   ],
   "metadata": {
    "collapsed": false,
    "ExecuteTime": {
     "end_time": "2024-03-27T01:54:23.102509Z",
     "start_time": "2024-03-27T01:54:22.524449Z"
    }
   },
   "id": "e66e77db6771d7c3",
   "execution_count": 55
  },
  {
   "cell_type": "code",
   "outputs": [],
   "source": [
    "# Preprocess dates\n",
    "\n",
    "def date_to_num(date_obj):\n",
    "    base_date = np.datetime64('2000-01-01')\n",
    "    delta_days = (date_obj - base_date).days\n",
    "    return delta_days + 1\n",
    "\n",
    "def date_from_num(days_count):\n",
    "    base_date = np.datetime64('2000-01-01')\n",
    "    target_date = base_date + np.timedelta64(days_count - 1, 'D')\n",
    "    formatted_date = target_date.astype(object).strftime('%d-%b-%Y')\n",
    "    return formatted_date"
   ],
   "metadata": {
    "collapsed": false,
    "ExecuteTime": {
     "end_time": "2024-03-27T01:54:23.118459Z",
     "start_time": "2024-03-27T01:54:23.103506Z"
    }
   },
   "id": "588df4299022008a",
   "execution_count": 56
  },
  {
   "cell_type": "code",
   "outputs": [
    {
     "name": "stdout",
     "output_type": "stream",
     "text": [
      "     Invoice Date  Vendor ID  Invoice Amount\n",
      "0            8202      65670         1732.67\n",
      "1            8262      65670         2045.03\n",
      "2            8322      65670         1398.03\n",
      "3            8382      65670         1316.33\n",
      "4            8442      65670         1755.29\n",
      "..            ...        ...             ...\n",
      "858          8717      65769         1308.83\n",
      "859          8747      65769         1469.97\n",
      "860          8777      65769         1956.70\n",
      "861          8807      65769         2221.93\n",
      "862          8837      65769         1410.39\n",
      "\n",
      "[863 rows x 3 columns]\n"
     ]
    }
   ],
   "source": [
    "df['Invoice Date'] = df['Invoice Date'].apply(date_to_num)\n",
    "\n",
    "print(df)"
   ],
   "metadata": {
    "collapsed": false,
    "ExecuteTime": {
     "end_time": "2024-03-27T01:54:23.133410Z",
     "start_time": "2024-03-27T01:54:23.120449Z"
    }
   },
   "id": "cf1aae6e60c5a54a",
   "execution_count": 57
  },
  {
   "cell_type": "code",
   "outputs": [
    {
     "name": "stdout",
     "output_type": "stream",
     "text": [
      "   Invoice Date  Vendor ID  Invoice Amount\n",
      "0          8202      65670         1732.67\n",
      "1          8262      65670         2045.03\n",
      "2          8322      65670         1398.03\n",
      "3          8382      65670         1316.33\n",
      "4          8442      65670         1755.29\n"
     ]
    }
   ],
   "source": [
    "print(df.head())"
   ],
   "metadata": {
    "collapsed": false,
    "ExecuteTime": {
     "end_time": "2024-03-27T01:54:33.181600Z",
     "start_time": "2024-03-27T01:54:33.169640Z"
    }
   },
   "id": "6359112374e9c265",
   "execution_count": 58
  },
  {
   "cell_type": "code",
   "outputs": [],
   "source": [
    "# Find Potential Vendor ID's\n",
    "\n",
    "# Define the start and end dates for April 2024\n",
    "start_date = np.datetime64('2024-04-01')\n",
    "end_date = np.datetime64('2024-04-30')\n",
    "\n",
    "potential_vendors = set()\n",
    "\n",
    "# Iterate through each day in April 2024\n",
    "current_date = start_date\n",
    "while current_date <= end_date:\n",
    "    day_count = (current_date - np.datetime64('2000-01-01')).astype(int) + 1\n",
    "    \n",
    "    # Filter the dataframe for each date offset\n",
    "    filtered_df1 = df[df['Invoice Date'] == day_count-15]\n",
    "    filtered_df2 = df[df['Invoice Date'] == day_count-30]\n",
    "    filtered_df3 = df[df['Invoice Date'] == day_count-45]\n",
    "    filtered_df4 = df[df['Invoice Date'] == day_count-60]\n",
    "    \n",
    "    # Add unique Vendor IDs to potential_vendors set\n",
    "    potential_vendors.update(set(filtered_df1['Vendor ID']))\n",
    "    potential_vendors.update(set(filtered_df2['Vendor ID']))\n",
    "    potential_vendors.update(set(filtered_df3['Vendor ID']))\n",
    "    potential_vendors.update(set(filtered_df4['Vendor ID']))\n",
    "    \n",
    "    current_date += np.timedelta64(1, 'D')"
   ],
   "metadata": {
    "collapsed": false,
    "ExecuteTime": {
     "end_time": "2024-03-27T02:11:31.695370Z",
     "start_time": "2024-03-27T02:11:31.654512Z"
    }
   },
   "id": "4869e658ba351cff",
   "execution_count": 68
  },
  {
   "cell_type": "code",
   "outputs": [
    {
     "name": "stdout",
     "output_type": "stream",
     "text": [
      "{65671, 65673, 65674, 65675, 65677, 65679, 65681, 65683, 65684, 65685, 65689, 65691, 65693, 65694, 65695, 65696, 65699, 65703, 65705, 65707, 65710, 65712, 65714, 65716, 65718, 65720, 65722, 65723, 65724, 65726, 65727, 65728, 65731, 65733, 65735, 65736, 65737, 65739, 65740, 65743, 65744, 65747, 65750, 65752, 65760, 65761, 65764, 65765, 65766, 65767, 65768, 65769}\n"
     ]
    }
   ],
   "source": [
    "print(potential_vendors)"
   ],
   "metadata": {
    "collapsed": false,
    "ExecuteTime": {
     "end_time": "2024-03-27T02:11:41.949573Z",
     "start_time": "2024-03-27T02:11:41.931633Z"
    }
   },
   "id": "64462b95b68d5b60",
   "execution_count": 69
  },
  {
   "cell_type": "code",
   "outputs": [
    {
     "data": {
      "text/plain": "6"
     },
     "execution_count": 63,
     "metadata": {},
     "output_type": "execute_result"
    }
   ],
   "source": [],
   "metadata": {
    "collapsed": false,
    "ExecuteTime": {
     "end_time": "2024-03-27T02:04:44.913908Z",
     "start_time": "2024-03-27T02:04:44.902944Z"
    }
   },
   "id": "14d66b2b9b827bb6",
   "execution_count": 63
  },
  {
   "cell_type": "code",
   "outputs": [],
   "source": [],
   "metadata": {
    "collapsed": false
   },
   "id": "4db5db293cb1b925"
  }
 ],
 "metadata": {
  "kernelspec": {
   "display_name": "Python 3",
   "language": "python",
   "name": "python3"
  },
  "language_info": {
   "codemirror_mode": {
    "name": "ipython",
    "version": 2
   },
   "file_extension": ".py",
   "mimetype": "text/x-python",
   "name": "python",
   "nbconvert_exporter": "python",
   "pygments_lexer": "ipython2",
   "version": "2.7.6"
  }
 },
 "nbformat": 4,
 "nbformat_minor": 5
}
