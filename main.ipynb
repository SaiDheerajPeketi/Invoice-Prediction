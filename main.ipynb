{
 "cells": [
  {
   "cell_type": "code",
   "execution_count": 54,
   "id": "initial_id",
   "metadata": {
    "collapsed": true,
    "ExecuteTime": {
     "end_time": "2024-03-27T01:54:22.523448Z",
     "start_time": "2024-03-27T01:54:22.506503Z"
    }
   },
   "outputs": [],
   "source": [
    "import pandas as pd\n",
    "import numpy as np\n",
    "from datetime import datetime, timedelta"
   ]
  },
  {
   "cell_type": "code",
   "outputs": [
    {
     "name": "stdout",
     "output_type": "stream",
     "text": [
      "    Invoice Date  Vendor ID  Invoice Amount\n",
      "0     2022-06-15      65670         1732.67\n",
      "1     2022-08-14      65670         2045.03\n",
      "2     2022-10-13      65670         1398.03\n",
      "3     2022-12-12      65670         1316.33\n",
      "4     2023-02-10      65670         1755.29\n",
      "..           ...        ...             ...\n",
      "858   2023-11-12      65769         1308.83\n",
      "859   2023-12-12      65769         1469.97\n",
      "860   2024-01-11      65769         1956.70\n",
      "861   2024-02-10      65769         2221.93\n",
      "862   2024-03-11      65769         1410.39\n",
      "\n",
      "[863 rows x 3 columns]\n"
     ]
    }
   ],
   "source": [
    "excel_file = 'Invoice.xlsx'\n",
    "sheet_name = '1'\n",
    "columns = ['Invoice Date', 'Vendor ID', 'Invoice Amount']\n",
    "\n",
    "df = pd.read_excel(excel_file, sheet_name=sheet_name, usecols=columns)\n",
    "\n",
    "df = df.dropna()\n",
    "\n",
    "print(df)"
   ],
   "metadata": {
    "collapsed": false,
    "ExecuteTime": {
     "end_time": "2024-03-27T01:54:23.102509Z",
     "start_time": "2024-03-27T01:54:22.524449Z"
    }
   },
   "id": "e66e77db6771d7c3",
   "execution_count": 55
  },
  {
   "cell_type": "code",
   "outputs": [],
   "source": [
    "# Preprocess dates\n",
    "\n",
    "def date_to_num(date_obj):\n",
    "    base_date = np.datetime64('2000-01-01')\n",
    "    delta_days = (date_obj - base_date).days\n",
    "    return delta_days + 1\n",
    "\n",
    "def date_from_num(days_count):\n",
    "    base_date = np.datetime64('2000-01-01')\n",
    "    target_date = base_date + np.timedelta64(days_count - 1, 'D')\n",
    "    formatted_date = target_date.astype(object).strftime('%d-%b-%Y')\n",
    "    return formatted_date"
   ],
   "metadata": {
    "collapsed": false,
    "ExecuteTime": {
     "end_time": "2024-03-27T01:54:23.118459Z",
     "start_time": "2024-03-27T01:54:23.103506Z"
    }
   },
   "id": "588df4299022008a",
   "execution_count": 56
  },
  {
   "cell_type": "code",
   "outputs": [
    {
     "name": "stdout",
     "output_type": "stream",
     "text": [
      "     Invoice Date  Vendor ID  Invoice Amount\n",
      "0            8202      65670         1732.67\n",
      "1            8262      65670         2045.03\n",
      "2            8322      65670         1398.03\n",
      "3            8382      65670         1316.33\n",
      "4            8442      65670         1755.29\n",
      "..            ...        ...             ...\n",
      "858          8717      65769         1308.83\n",
      "859          8747      65769         1469.97\n",
      "860          8777      65769         1956.70\n",
      "861          8807      65769         2221.93\n",
      "862          8837      65769         1410.39\n",
      "\n",
      "[863 rows x 3 columns]\n"
     ]
    }
   ],
   "source": [
    "df['Invoice Date'] = df['Invoice Date'].apply(date_to_num)\n",
    "\n",
    "print(df)"
   ],
   "metadata": {
    "collapsed": false,
    "ExecuteTime": {
     "end_time": "2024-03-27T01:54:23.133410Z",
     "start_time": "2024-03-27T01:54:23.120449Z"
    }
   },
   "id": "cf1aae6e60c5a54a",
   "execution_count": 57
  },
  {
   "cell_type": "code",
   "outputs": [
    {
     "name": "stdout",
     "output_type": "stream",
     "text": [
      "   Invoice Date  Vendor ID  Invoice Amount\n",
      "0          8202      65670         1732.67\n",
      "1          8262      65670         2045.03\n",
      "2          8322      65670         1398.03\n",
      "3          8382      65670         1316.33\n",
      "4          8442      65670         1755.29\n"
     ]
    }
   ],
   "source": [
    "print(df.head())"
   ],
   "metadata": {
    "collapsed": false,
    "ExecuteTime": {
     "end_time": "2024-03-27T01:54:33.181600Z",
     "start_time": "2024-03-27T01:54:33.169640Z"
    }
   },
   "id": "6359112374e9c265",
   "execution_count": 58
  },
  {
   "cell_type": "code",
   "outputs": [],
   "source": [
    "# Find Potential Vendor ID's\n",
    "\n",
    "# Define the start and end dates for April 2024\n",
    "start_date = np.datetime64('2024-04-01')\n",
    "end_date = np.datetime64('2024-04-30')\n",
    "\n",
    "potential_vendors = set()\n",
    "\n",
    "# Iterate through each day in April 2024\n",
    "current_date = start_date\n",
    "while current_date <= end_date:\n",
    "    day_count = (current_date - np.datetime64('2000-01-01')).astype(int) + 1\n",
    "    \n",
    "    # Filter the dataframe for each date offset\n",
    "    filtered_df1 = df[df['Invoice Date'] == day_count-15]\n",
    "    filtered_df2 = df[df['Invoice Date'] == day_count-30]\n",
    "    filtered_df3 = df[df['Invoice Date'] == day_count-45]\n",
    "    filtered_df4 = df[df['Invoice Date'] == day_count-60]\n",
    "    \n",
    "    # Add unique Vendor IDs to potential_vendors set\n",
    "    # Iterate through filtered DataFrames and add tuples to the set\n",
    "    for filtered_df in [filtered_df1, filtered_df2, filtered_df3, filtered_df4]:\n",
    "        for index, row in filtered_df.iterrows():\n",
    "            vendor_date_tuple = (row['Invoice Date'], row['Vendor ID'])\n",
    "            potential_vendors.add(vendor_date_tuple)\n",
    "    # potential_vendors.update(set(filtered_df1['Vendor ID']))\n",
    "    # potential_vendors.update(set(filtered_df2['Vendor ID']))\n",
    "    # potential_vendors.update(set(filtered_df3['Vendor ID']))\n",
    "    # potential_vendors.update(set(filtered_df4['Vendor ID']))\n",
    "    \n",
    "    current_date += np.timedelta64(1, 'D')"
   ],
   "metadata": {
    "collapsed": false,
    "ExecuteTime": {
     "end_time": "2024-03-27T03:29:59.217548Z",
     "start_time": "2024-03-27T03:29:59.153765Z"
    }
   },
   "id": "4869e658ba351cff",
   "execution_count": 118
  },
  {
   "cell_type": "code",
   "outputs": [
    {
     "name": "stdout",
     "output_type": "stream",
     "text": [
      "{(8823.0, 65691.0), (8807.0, 65765.0), (8801.0, 65694.0), (8818.0, 65710.0), (8820.0, 65674.0), (8851.0, 65768.0), (8852.0, 65684.0), (8835.0, 65683.0), (8837.0, 65769.0), (8839.0, 65699.0), (8853.0, 65695.0), (8805.0, 65712.0), (8837.0, 65714.0), (8805.0, 65718.0), (8809.0, 65743.0), (8825.0, 65733.0), (8837.0, 65671.0), (8804.0, 65707.0), (8847.0, 65739.0), (8821.0, 65723.0), (8809.0, 65703.0), (8809.0, 65767.0), (8830.0, 65747.0), (8822.0, 65679.0), (8855.0, 65673.0), (8855.0, 65737.0), (8853.0, 65752.0), (8835.0, 65740.0), (8825.0, 65766.0), (8821.0, 65744.0), (8821.0, 65689.0), (8834.0, 65720.0), (8840.0, 65736.0), (8810.0, 65726.0), (8824.0, 65764.0), (8807.0, 65693.0), (8834.0, 65735.0), (8837.0, 65728.0), (8824.0, 65761.0), (8807.0, 65705.0), (8807.0, 65769.0), (8809.0, 65699.0), (8821.0, 65731.0), (8825.0, 65750.0), (8850.0, 65718.0), (8835.0, 65727.0), (8823.0, 65695.0), (8807.0, 65714.0), (8803.0, 65677.0), (8822.0, 65684.0), (8835.0, 65675.0), (8808.0, 65752.0), (8840.0, 65726.0), (8821.0, 65685.0), (8853.0, 65696.0), (8839.0, 65703.0), (8839.0, 65767.0), (8807.0, 65671.0), (8854.0, 65761.0), (8837.0, 65724.0), (8854.0, 65764.0), (8835.0, 65760.0), (8805.0, 65716.0), (8838.0, 65722.0), (8825.0, 65673.0), (8837.0, 65681.0), (8825.0, 65737.0)}\n",
      "    Vendor ID  Invoice Date\n",
      "0     65671.0        8837.0\n",
      "1     65673.0        8855.0\n",
      "2     65674.0        8820.0\n",
      "3     65675.0        8835.0\n",
      "4     65677.0        8803.0\n",
      "5     65679.0        8822.0\n",
      "6     65681.0        8837.0\n",
      "7     65683.0        8835.0\n",
      "8     65684.0        8852.0\n",
      "9     65685.0        8821.0\n",
      "10    65689.0        8821.0\n",
      "11    65691.0        8823.0\n",
      "12    65693.0        8807.0\n",
      "13    65694.0        8801.0\n",
      "14    65695.0        8853.0\n",
      "15    65696.0        8853.0\n",
      "16    65699.0        8839.0\n",
      "17    65703.0        8839.0\n",
      "18    65705.0        8807.0\n",
      "19    65707.0        8804.0\n",
      "20    65710.0        8818.0\n",
      "21    65712.0        8805.0\n",
      "22    65714.0        8837.0\n",
      "23    65716.0        8805.0\n",
      "24    65718.0        8850.0\n",
      "25    65720.0        8834.0\n",
      "26    65722.0        8838.0\n",
      "27    65723.0        8821.0\n",
      "28    65724.0        8837.0\n",
      "29    65726.0        8840.0\n",
      "30    65727.0        8835.0\n",
      "31    65728.0        8837.0\n",
      "32    65731.0        8821.0\n",
      "33    65733.0        8825.0\n",
      "34    65735.0        8834.0\n",
      "35    65736.0        8840.0\n",
      "36    65737.0        8855.0\n",
      "37    65739.0        8847.0\n",
      "38    65740.0        8835.0\n",
      "39    65743.0        8809.0\n",
      "40    65744.0        8821.0\n",
      "41    65747.0        8830.0\n",
      "42    65750.0        8825.0\n",
      "43    65752.0        8853.0\n",
      "44    65760.0        8835.0\n",
      "45    65761.0        8854.0\n",
      "46    65764.0        8854.0\n",
      "47    65765.0        8807.0\n",
      "48    65766.0        8825.0\n",
      "49    65767.0        8839.0\n",
      "50    65768.0        8851.0\n",
      "51    65769.0        8837.0\n"
     ]
    }
   ],
   "source": [
    "print(potential_vendors)\n",
    "\n",
    "vendors_df = pd.DataFrame(list(potential_vendors), columns=columns[:-1])\n",
    "\n",
    "final_vendors_df = vendors_df.groupby('Vendor ID')['Invoice Date'].max().reset_index()\n",
    "\n",
    "print(final_vendors_df)"
   ],
   "metadata": {
    "collapsed": false,
    "ExecuteTime": {
     "end_time": "2024-03-27T03:30:03.406893Z",
     "start_time": "2024-03-27T03:30:03.393936Z"
    }
   },
   "id": "64462b95b68d5b60",
   "execution_count": 119
  },
  {
   "cell_type": "code",
   "outputs": [],
   "source": [
    "from sklearn.pipeline import Pipeline\n",
    "from sklearn.preprocessing import StandardScaler\n",
    "\n",
    "pipeline = Pipeline([\n",
    " ('std_scaler', StandardScaler()),\n",
    " ])\n",
    "\n",
    "df_scaled = pipeline.fit_transform(df)\n",
    "df_scaled = pd.DataFrame(df_scaled, columns=columns)"
   ],
   "metadata": {
    "collapsed": false,
    "ExecuteTime": {
     "end_time": "2024-03-27T02:26:44.178608Z",
     "start_time": "2024-03-27T02:26:44.164650Z"
    }
   },
   "id": "14d66b2b9b827bb6",
   "execution_count": 77
  },
  {
   "cell_type": "code",
   "outputs": [
    {
     "name": "stdout",
     "output_type": "stream",
     "text": [
      "X_train shape: (690, 2)\n",
      "X_test shape: (173, 2)\n",
      "y_train shape: (690,)\n",
      "y_test shape: (173,)\n"
     ]
    }
   ],
   "source": [
    "from sklearn.model_selection import train_test_split\n",
    "\n",
    "# Separate features and target variable\n",
    "X = df_scaled[columns[:-1]]\n",
    "y = df_scaled[columns[-1]]\n",
    "\n",
    "# Perform train-test split with a 80-20 ratio\n",
    "X_train, X_test, y_train, y_test = train_test_split(X, y, test_size=0.2, random_state=42)\n",
    "\n",
    "# Print the shapes of the train and test sets\n",
    "print(\"X_train shape:\", X_train.shape)\n",
    "print(\"X_test shape:\", X_test.shape)\n",
    "print(\"y_train shape:\", y_train.shape)\n",
    "print(\"y_test shape:\", y_test.shape)"
   ],
   "metadata": {
    "collapsed": false,
    "ExecuteTime": {
     "end_time": "2024-03-27T02:32:38.321953Z",
     "start_time": "2024-03-27T02:32:38.307007Z"
    }
   },
   "id": "4db5db293cb1b925",
   "execution_count": 82
  },
  {
   "cell_type": "code",
   "outputs": [
    {
     "data": {
      "text/plain": "RandomForestRegressor(max_leaf_nodes=16, n_jobs=-1, random_state=42)",
      "text/html": "<style>#sk-container-id-6 {color: black;}#sk-container-id-6 pre{padding: 0;}#sk-container-id-6 div.sk-toggleable {background-color: white;}#sk-container-id-6 label.sk-toggleable__label {cursor: pointer;display: block;width: 100%;margin-bottom: 0;padding: 0.3em;box-sizing: border-box;text-align: center;}#sk-container-id-6 label.sk-toggleable__label-arrow:before {content: \"▸\";float: left;margin-right: 0.25em;color: #696969;}#sk-container-id-6 label.sk-toggleable__label-arrow:hover:before {color: black;}#sk-container-id-6 div.sk-estimator:hover label.sk-toggleable__label-arrow:before {color: black;}#sk-container-id-6 div.sk-toggleable__content {max-height: 0;max-width: 0;overflow: hidden;text-align: left;background-color: #f0f8ff;}#sk-container-id-6 div.sk-toggleable__content pre {margin: 0.2em;color: black;border-radius: 0.25em;background-color: #f0f8ff;}#sk-container-id-6 input.sk-toggleable__control:checked~div.sk-toggleable__content {max-height: 200px;max-width: 100%;overflow: auto;}#sk-container-id-6 input.sk-toggleable__control:checked~label.sk-toggleable__label-arrow:before {content: \"▾\";}#sk-container-id-6 div.sk-estimator input.sk-toggleable__control:checked~label.sk-toggleable__label {background-color: #d4ebff;}#sk-container-id-6 div.sk-label input.sk-toggleable__control:checked~label.sk-toggleable__label {background-color: #d4ebff;}#sk-container-id-6 input.sk-hidden--visually {border: 0;clip: rect(1px 1px 1px 1px);clip: rect(1px, 1px, 1px, 1px);height: 1px;margin: -1px;overflow: hidden;padding: 0;position: absolute;width: 1px;}#sk-container-id-6 div.sk-estimator {font-family: monospace;background-color: #f0f8ff;border: 1px dotted black;border-radius: 0.25em;box-sizing: border-box;margin-bottom: 0.5em;}#sk-container-id-6 div.sk-estimator:hover {background-color: #d4ebff;}#sk-container-id-6 div.sk-parallel-item::after {content: \"\";width: 100%;border-bottom: 1px solid gray;flex-grow: 1;}#sk-container-id-6 div.sk-label:hover label.sk-toggleable__label {background-color: #d4ebff;}#sk-container-id-6 div.sk-serial::before {content: \"\";position: absolute;border-left: 1px solid gray;box-sizing: border-box;top: 0;bottom: 0;left: 50%;z-index: 0;}#sk-container-id-6 div.sk-serial {display: flex;flex-direction: column;align-items: center;background-color: white;padding-right: 0.2em;padding-left: 0.2em;position: relative;}#sk-container-id-6 div.sk-item {position: relative;z-index: 1;}#sk-container-id-6 div.sk-parallel {display: flex;align-items: stretch;justify-content: center;background-color: white;position: relative;}#sk-container-id-6 div.sk-item::before, #sk-container-id-6 div.sk-parallel-item::before {content: \"\";position: absolute;border-left: 1px solid gray;box-sizing: border-box;top: 0;bottom: 0;left: 50%;z-index: -1;}#sk-container-id-6 div.sk-parallel-item {display: flex;flex-direction: column;z-index: 1;position: relative;background-color: white;}#sk-container-id-6 div.sk-parallel-item:first-child::after {align-self: flex-end;width: 50%;}#sk-container-id-6 div.sk-parallel-item:last-child::after {align-self: flex-start;width: 50%;}#sk-container-id-6 div.sk-parallel-item:only-child::after {width: 0;}#sk-container-id-6 div.sk-dashed-wrapped {border: 1px dashed gray;margin: 0 0.4em 0.5em 0.4em;box-sizing: border-box;padding-bottom: 0.4em;background-color: white;}#sk-container-id-6 div.sk-label label {font-family: monospace;font-weight: bold;display: inline-block;line-height: 1.2em;}#sk-container-id-6 div.sk-label-container {text-align: center;}#sk-container-id-6 div.sk-container {/* jupyter's `normalize.less` sets `[hidden] { display: none; }` but bootstrap.min.css set `[hidden] { display: none !important; }` so we also need the `!important` here to be able to override the default hidden behavior on the sphinx rendered scikit-learn.org. See: https://github.com/scikit-learn/scikit-learn/issues/21755 */display: inline-block !important;position: relative;}#sk-container-id-6 div.sk-text-repr-fallback {display: none;}</style><div id=\"sk-container-id-6\" class=\"sk-top-container\"><div class=\"sk-text-repr-fallback\"><pre>RandomForestRegressor(max_leaf_nodes=16, n_jobs=-1, random_state=42)</pre><b>In a Jupyter environment, please rerun this cell to show the HTML representation or trust the notebook. <br />On GitHub, the HTML representation is unable to render, please try loading this page with nbviewer.org.</b></div><div class=\"sk-container\" hidden><div class=\"sk-item\"><div class=\"sk-estimator sk-toggleable\"><input class=\"sk-toggleable__control sk-hidden--visually\" id=\"sk-estimator-id-6\" type=\"checkbox\" checked><label for=\"sk-estimator-id-6\" class=\"sk-toggleable__label sk-toggleable__label-arrow\">RandomForestRegressor</label><div class=\"sk-toggleable__content\"><pre>RandomForestRegressor(max_leaf_nodes=16, n_jobs=-1, random_state=42)</pre></div></div></div></div></div>"
     },
     "execution_count": 136,
     "metadata": {},
     "output_type": "execute_result"
    }
   ],
   "source": [
    "from sklearn.tree import DecisionTreeRegressor\n",
    "from sklearn.ensemble import RandomForestRegressor\n",
    "\n",
    "# tree_reg = DecisionTreeRegressor()\n",
    "# tree_reg.fit(X_train, y_train)\n",
    "\n",
    "regressor = RandomForestRegressor(\n",
    "    n_estimators=100,\n",
    "    max_leaf_nodes=16,\n",
    "    n_jobs=-1,\n",
    "    random_state=42\n",
    ")\n",
    "regressor.fit(X_train, y_train)"
   ],
   "metadata": {
    "collapsed": false,
    "ExecuteTime": {
     "end_time": "2024-03-27T04:30:58.758861Z",
     "start_time": "2024-03-27T04:30:58.631287Z"
    }
   },
   "id": "19264e64ec2f0157",
   "execution_count": 136
  },
  {
   "cell_type": "code",
   "outputs": [
    {
     "name": "stdout",
     "output_type": "stream",
     "text": [
      "     Invoice Date  Vendor ID  Invoice Amount\n",
      "715      0.188044   1.167199        1.627016\n",
      "605     -0.994922   0.746764        1.622596\n",
      "120      0.340210  -1.215267        0.463345\n",
      "208      0.276399  -0.864905        0.390861\n",
      "380      0.934148  -0.199216       -1.324560\n",
      "..            ...        ...             ...\n",
      "235      1.277748  -0.759796       -0.195896\n",
      "333     -0.111379  -0.409433        0.155350\n",
      "215      1.307199  -0.864905       -1.708048\n",
      "796      1.164851   1.447489        1.230891\n",
      "7        0.467833  -1.740811        1.123752\n",
      "\n",
      "[173 rows x 3 columns]\n",
      "     Invoice Date  Vendor ID  Invoice Amount\n",
      "715      0.188044   1.167199       -0.095739\n",
      "605     -0.994922   0.746764        0.043394\n",
      "120      0.340210  -1.215267       -0.049990\n",
      "208      0.276399  -0.864905       -0.245595\n",
      "380      0.934148  -0.199216        0.058116\n",
      "..            ...        ...             ...\n",
      "235      1.277748  -0.759796       -0.037284\n",
      "333     -0.111379  -0.409433       -0.077271\n",
      "215      1.307199  -0.864905       -0.035580\n",
      "796      1.164851   1.447489       -0.078839\n",
      "7        0.467833  -1.740811       -0.032524\n",
      "\n",
      "[173 rows x 3 columns]\n"
     ]
    }
   ],
   "source": [
    "from sklearn.metrics import mean_squared_error\n",
    "\n",
    "# y_pred = pd.DataFrame(tree_reg.predict(X_test))\n",
    "y_pred = pd.DataFrame(regressor.predict(X_test))\n",
    "y_pred = y_pred.rename(columns={'0':columns[-1]})\n",
    "\n",
    "X_test_reset = X_test.reset_index(drop=True)\n",
    "\n",
    "combined_org = pd.concat([X_test, y_test], axis=1)\n",
    "combined_res = pd.concat([X_test_reset, y_pred], axis=1,ignore_index=True)\n",
    "combined_res = combined_res.set_index(combined_org.index)\n",
    "combined_res.columns = combined_org.columns\n",
    "\n",
    "print(combined_org)\n",
    "print(combined_res)"
   ],
   "metadata": {
    "collapsed": false,
    "ExecuteTime": {
     "end_time": "2024-03-27T04:31:42.808275Z",
     "start_time": "2024-03-27T04:31:42.770398Z"
    }
   },
   "id": "ffc296843395ec64",
   "execution_count": 139
  },
  {
   "cell_type": "code",
   "outputs": [
    {
     "name": "stdout",
     "output_type": "stream",
     "text": [
      "     Invoice Date  Vendor ID  Invoice Amount\n",
      "0          8565.0    65753.0         2469.78\n",
      "1          8324.0    65741.0         2468.15\n",
      "2          8596.0    65685.0         2040.65\n",
      "3          8583.0    65695.0         2013.92\n",
      "4          8717.0    65714.0         1381.32\n",
      "..            ...        ...             ...\n",
      "168        8787.0    65698.0         1797.54\n",
      "169        8504.0    65708.0         1927.07\n",
      "170        8793.0    65695.0         1239.90\n",
      "171        8764.0    65761.0         2323.70\n",
      "172        8622.0    65670.0         2284.19\n",
      "\n",
      "[173 rows x 3 columns]\n",
      "     Invoice Date  Vendor ID  Invoice Amount\n",
      "0          8565.0    65753.0     1834.475198\n",
      "1          8324.0    65741.0     1885.783666\n",
      "2          8596.0    65685.0     1851.346226\n",
      "3          8583.0    65695.0     1779.212622\n",
      "4          8717.0    65714.0     1891.212817\n",
      "..            ...        ...             ...\n",
      "168        8787.0    65698.0     1856.031855\n",
      "169        8504.0    65708.0     1841.285598\n",
      "170        8793.0    65695.0     1856.660272\n",
      "171        8764.0    65761.0     1840.707564\n",
      "172        8622.0    65670.0     1857.787253\n",
      "\n",
      "[173 rows x 3 columns]\n"
     ]
    },
    {
     "data": {
      "text/plain": "375.57490009105675"
     },
     "execution_count": 140,
     "metadata": {},
     "output_type": "execute_result"
    }
   ],
   "source": [
    "unscaled_pred = pipeline.inverse_transform(combined_res)\n",
    "unscaled_org = pipeline.inverse_transform(combined_org)\n",
    "\n",
    "unscaled_pred = pd.DataFrame(unscaled_pred, columns=columns)\n",
    "unscaled_org = pd.DataFrame(unscaled_org ,columns=columns)\n",
    "\n",
    "print(unscaled_org)\n",
    "print(unscaled_pred)\n",
    "\n",
    "tree_mse = mean_squared_error(unscaled_org['Invoice Amount'], unscaled_pred['Invoice Amount'])\n",
    "tree_rmse = np.sqrt(tree_mse)\n",
    "tree_rmse"
   ],
   "metadata": {
    "collapsed": false,
    "ExecuteTime": {
     "end_time": "2024-03-27T04:31:43.774170Z",
     "start_time": "2024-03-27T04:31:43.754245Z"
    }
   },
   "id": "85b13c8e9f68d7e7",
   "execution_count": 140
  },
  {
   "cell_type": "code",
   "outputs": [
    {
     "data": {
      "text/plain": "count    10.000000\nmean      1.016930\nstd       0.056227\nmin       0.942396\n25%       0.963127\n50%       1.032872\n75%       1.049727\nmax       1.099844\ndtype: float64"
     },
     "execution_count": 135,
     "metadata": {},
     "output_type": "execute_result"
    }
   ],
   "source": [],
   "metadata": {
    "collapsed": false,
    "ExecuteTime": {
     "end_time": "2024-03-27T04:23:07.461951Z",
     "start_time": "2024-03-27T04:23:06.004825Z"
    }
   },
   "id": "7056b469414f42ac",
   "execution_count": 135
  },
  {
   "cell_type": "code",
   "outputs": [],
   "source": [],
   "metadata": {
    "collapsed": false
   },
   "id": "9178f2568dfa11a3"
  }
 ],
 "metadata": {
  "kernelspec": {
   "display_name": "Python 3",
   "language": "python",
   "name": "python3"
  },
  "language_info": {
   "codemirror_mode": {
    "name": "ipython",
    "version": 2
   },
   "file_extension": ".py",
   "mimetype": "text/x-python",
   "name": "python",
   "nbconvert_exporter": "python",
   "pygments_lexer": "ipython2",
   "version": "2.7.6"
  }
 },
 "nbformat": 4,
 "nbformat_minor": 5
}
